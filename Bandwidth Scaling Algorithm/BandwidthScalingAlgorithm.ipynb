{
  "cells": [
    {
      "cell_type": "code",
      "execution_count": 317,
      "metadata": {
        "id": "Fzbo65cmeuCQ"
      },
      "outputs": [],
      "source": [
        "import networkx as nx\n",
        "import numpy as np"
      ]
    },
    {
      "cell_type": "code",
      "execution_count": null,
      "metadata": {},
      "outputs": [],
      "source": [

        "#This method finds the minimum flow1"

      ]
    },
    {
      "cell_type": "code",
      "execution_count": 318,
      "metadata": {
        "id": "swuci8hUfVfJ"
      },
      "outputs": [],
      "source": [
        "def shortest_way_fan(g,s,t):\n",
        "  try:\n",
        "    path=nx.astar_path(g,s,t,weight='cost')\n",
        "    edges=[[path[i],path[i+1]] for i in range(len(path)-1)]\n",
        "    return edges\n",
        "  except Exception:\n",
        "    return False"
      ]
    },
    {
      "cell_type": "code",
      "execution_count": 319,
      "metadata": {
        "id": "uK_LK-H8fV02"
      },
      "outputs": [],
      "source": [
        "def residual(u,f):\n",
        "  return u-f+np.transpose(f)"
      ]
    },
    {
      "cell_type": "code",
      "execution_count": 320,
      "metadata": {
        "id": "z7xLi1_wfYKO"
      },
      "outputs": [],
      "source": [
        "def residual_cost_2(uf, c):\n",
        "      n = len(uf)\n",
        "      c2 = {}\n",
        "\n",
        "      for i in range(n):\n",
        "          for j in range(n):\n",
        "              if uf[i][j]>0:\n",
        "                  if (i,j) in c:\n",
        "                      c2[i,j] = c[i,j]\n",
        "                  else:\n",
        "                      c2[i,j] = -c[j,i]\n",
        "\n",
        "      return c2"
      ]
    },
    {
      "cell_type": "code",
      "execution_count": 321,
      "metadata": {
        "id": "vlipRvdCgSU3"
      },
      "outputs": [],
      "source": [
        "def min_cost(u,b,c1):\n",
        "  balance = b.copy()\n",
        "  residualCapacity = u.copy()\n",
        "  residualCosts = residual_cost_2(residualCapacity, c1)\n",
        "\n",
        "  gamma = 2**(round(np.log2(max(balance))))\n",
        "\n",
        "  check = len([x for x in balance if (x > 0 or x < 0)])\n",
        "  while check != 0:\n",
        "\n",
        "    residualGraph = nx.from_numpy_array(residualCapacity, create_using = nx.DiGraph)\n",
        "\n",
        "    array_for_s = [i for i in range (len(u)) if balance[i]>=gamma]\n",
        "    array_for_t = [i for i in range (len(u)) if balance[i]<=-gamma]\n",
        "\n",
        "    for (start, end) in residualCosts.keys():\n",
        "      if (start, end) in residualGraph.edges:\n",
        "        residualGraph.edges[start, end]['cost'] = residualCosts[start, end]\n",
        "\n",
        "    for s1 in array_for_s:\n",
        "      for t1 in array_for_t:\n",
        "        if shortest_way_fan(residualGraph,s1,t1) != False:\n",
        "          s,t = s1,t1\n",
        "          break\n",
        "\n",
        "    shortest_way = shortest_way_fan(residualGraph,s,t)\n",
        "\n",
        "    balance[s]-= gamma\n",
        "    balance[t]+= gamma\n",
        "\n",
        "    for i,j in shortest_way:\n",
        "      residualCapacity[i][j] -= gamma\n",
        "      residualCapacity[j][i] += gamma\n",
        "\n",
        "    if gamma == 1:\n",
        "      break\n",
        "    else:\n",
        "      gamma = gamma/2\n",
        "      check = len([x for x in balance if (x > 0 or x < 0)])\n",
        "      residualCosts = residual_cost_2(residualCapacity, c1)\n",
        "\n",
        "  transposeResidualCapacity = np.transpose(residualCapacity)\n",
        "\n",
        "  return transposeResidualCapacity"
      ]
    },
    {
      "cell_type": "code",
      "execution_count": 322,
      "metadata": {
        "id": "ZKRPmaIspLpj"
      },
      "outputs": [],
      "source": [
        "c1 = {(0, 1):1, (0, 2):2, (1, 5):5, (2, 5):-1, (3,2):3 ,(3, 4):2, (5, 4):3}\n",
        "b = [10, 0, 0 ,5, -10, -5]\n",
        "u = np.full((len(u),len(u)), 0.0)\n",
        "for (i,j) in c1.keys():\n",
        "      u[i][j] = np.inf"
      ]
    },
    {
      "cell_type": "code",
      "execution_count": 323,
      "metadata": {
        "id": "PzNjW_y4ma4g"
      },
      "outputs": [],
      "source": [
        "f=min_cost(u,b,c1)"
      ]
    },
    {
      "cell_type": "code",
      "execution_count": 324,
      "metadata": {
        "colab": {
          "base_uri": "https://localhost:8080/"
        },
        "id": "w4O4FKf_nqGS",
        "outputId": "995f91cd-9c8f-4834-9c27-a4085c69c2aa"
      },
      "outputs": [
        {
          "data": {
            "text/plain": [
              "array([[ 0.,  0., 10.,  0.,  0.,  0.],\n",
              "       [inf,  0.,  0.,  0.,  0.,  0.],\n",
              "       [inf,  0.,  0., inf,  0., 10.],\n",
              "       [ 0.,  0.,  0.,  0.,  5.,  0.],\n",
              "       [ 0.,  0.,  0., inf,  0., inf],\n",
              "       [ 0., inf, inf,  0.,  5.,  0.]])"
            ]
          },
          "execution_count": 324,
          "metadata": {},
          "output_type": "execute_result"
        }
      ],
      "source": [
        "f"
      ]
    },
    {
      "cell_type": "code",
      "execution_count": 328,
      "metadata": {
        "colab": {
          "base_uri": "https://localhost:8080/"
        },
        "id": "sM3D45NJva-8",
        "outputId": "82d564d7-53c1-42f9-fdfc-11b86e673817"
      },
      "outputs": [
        {
          "data": {
            "text/plain": [
              "array([[ 0.,  0., 10.,  0.,  0.,  0.],\n",
              "       [ 0.,  0.,  0.,  0.,  0.,  0.],\n",
              "       [ 0.,  0.,  0.,  0.,  0., 10.],\n",
              "       [ 0.,  0.,  0.,  0.,  5.,  0.],\n",
              "       [ 0.,  0.,  0.,  0.,  0.,  0.],\n",
              "       [ 0.,  0.,  0.,  0.,  5.,  0.]])"
            ]
          },
          "execution_count": 328,
          "metadata": {},
          "output_type": "execute_result"
        }
      ],
      "source": [
        "ftrue = np.full((len(f),len(f)), 0.0)\n",
        "for i in range(len(f)):\n",
        "  for j in range(len(f)):\n",
        "    if f[i][j]>0 and f[i][j] != np.inf:\n",
        "      ftrue[i][j] = f[i][j]\n",
        "ftrue"
      ]
    },
    {
      "cell_type": "markdown",
      "metadata": {
        "id": "5Kxk8fR1wQIO"
      },
      "source": [
        "Задание из КТ:"
      ]
    },
    {
      "cell_type": "code",
      "execution_count": 329,
      "metadata": {
        "id": "jh64HmnLvzA0"
      },
      "outputs": [],
      "source": [
        "b = np.array([10,0,0,5,-10,-5])\n",
        "\n",
        "c1 = {(0, 1):1, (0,2):2, (1,5):5, (2,5):-1, (3,2):3, (3,4):2, (5,4):3}\n",
        "\n",
        "for (i,j) in c1.keys():\n",
        "      u[i][j] = np.inf"
      ]
    },
    {
      "cell_type": "code",
      "execution_count": 330,
      "metadata": {
        "id": "eBFflAPmwJSF"
      },
      "outputs": [],
      "source": [
        "f=min_cost(u,b,c1)"
      ]
    },
    {
      "cell_type": "code",
      "execution_count": 331,
      "metadata": {
        "colab": {
          "base_uri": "https://localhost:8080/"
        },
        "id": "kRjC5bodwK3i",
        "outputId": "ea8801fc-2524-4a27-c6f1-ebf915565af1"
      },
      "outputs": [
        {
          "data": {
            "text/plain": [
              "array([[ 0.,  0., 10.,  0.,  0.,  0.],\n",
              "       [ 0.,  0.,  0.,  0.,  0.,  0.],\n",
              "       [ 0.,  0.,  0.,  0.,  0., 10.],\n",
              "       [ 0.,  0.,  0.,  0.,  5.,  0.],\n",
              "       [ 0.,  0.,  0.,  0.,  0.,  0.],\n",
              "       [ 0.,  0.,  0.,  0.,  5.,  0.]])"
            ]
          },
          "execution_count": 331,
          "metadata": {},
          "output_type": "execute_result"
        }
      ],
      "source": [
        "ftrue = np.full((len(f),len(f)), 0.0)\n",
        "for i in range(len(f)):\n",
        "  for j in range(len(f)):\n",
        "    if f[i][j]>0 and f[i][j] != np.inf:\n",
        "      ftrue[i][j] = f[i][j]\n",
        "ftrue"
      ]
    }
  ],
  "metadata": {
    "colab": {
      "provenance": []
    },
    "kernelspec": {
      "display_name": "Python 3",
      "name": "python3"
    },
    "language_info": {
      "name": "python"
    }
  },
  "nbformat": 4,
  "nbformat_minor": 0
}
