{
  "nbformat": 4,
  "nbformat_minor": 0,
  "metadata": {
    "colab": {
      "provenance": []
    },
    "kernelspec": {
      "name": "python3",
      "display_name": "Python 3"
    },
    "language_info": {
      "name": "python"
    }
  },
  "cells": [
    {
      "cell_type": "code",
      "execution_count": 117,
      "metadata": {
        "id": "qtoinC4xaVwh"
      },
      "outputs": [],
      "source": [
        "import networkx as nx\n",
        "import numpy as np\n",
        "import random"
      ]
    },
    {
      "cell_type": "code",
      "source": [
        "def shortest_way_fan(g,s,t):\n",
        "  try:\n",
        "    path=nx.astar_path(g,s,t,weight='cost')\n",
        "    edges=[[path[i],path[i+1]] for i in range(len(path)-1)]\n",
        "    return edges\n",
        "  except Exception:\n",
        "    return False"
      ],
      "metadata": {
        "id": "lZNfemXjaZ1c"
      },
      "execution_count": 118,
      "outputs": []
    },
    {
      "cell_type": "code",
      "source": [
        "def residual(u,f):\n",
        "  return u-f+np.transpose(f)"
      ],
      "metadata": {
        "id": "ZIc8TOmnaagF"
      },
      "execution_count": 119,
      "outputs": []
    },
    {
      "cell_type": "code",
      "source": [
        "b = np.array([15, 0, -10, 10, 0, -15])\n",
        "\n",
        "u = np.array([\n",
        "    [0, 15, 0, 0, 5, 0],\n",
        "    [0, 0, 15, 0, 0, 0],\n",
        "    [0, 0, 0, 0, 0, 10],\n",
        "    [0, 0, 0, 0, 8, 10],\n",
        "    [0, 0, 4, 0, 0, 8],\n",
        "    [0, 0, 0, 0, 0, 0] ])\n",
        "\n",
        "c = np.array([\n",
        "    [0,5,0,0,-15,0],\n",
        "    [0,0,5,0,0,0],\n",
        "    [0,0,0,0,0,5],\n",
        "    [0,0,0,0,0,6],\n",
        "    [0,0,3,0,0,5],\n",
        "    [0,0,0,0,0,0]])\n",
        "\n",
        "c1 = {(0, 1):5, (0, 4):-15, (1, 2):5, (2, 5):5, (3,4):0 ,(3, 5):6, (4, 2):3, (4, 5):5}"
      ],
      "metadata": {
        "id": "DwW4Mj5iaavU"
      },
      "execution_count": 120,
      "outputs": []
    },
    {
      "cell_type": "code",
      "source": [
        "def residual_cost_2(uf, c):\n",
        "      n = len(uf)\n",
        "      c2 = {}\n",
        "\n",
        "      for i in range(n):\n",
        "          for j in range(n):\n",
        "              if uf[i][j]>0:\n",
        "                  if (i,j) in c:\n",
        "                      c2[i,j] = c[i,j]\n",
        "                  else:\n",
        "                      c2[i,j] = -c[j,i]\n",
        "\n",
        "      return c2"
      ],
      "metadata": {
        "id": "IdP1gP5KSn63"
      },
      "execution_count": 121,
      "outputs": []
    },
    {
      "cell_type": "code",
      "source": [
        "def min_cost(u,b,c1):\n",
        "        f = np.full((len(u),len(u)), 0)\n",
        "        uf = residual(u, f)\n",
        "        gf = nx.from_numpy_array(uf, create_using = nx.DiGraph)\n",
        "        c1 = residual_cost_2(uf, c1)\n",
        "        for (start, end) in c1.keys():\n",
        "          if (start, end) in gf.edges:\n",
        "            gf.edges[start, end]['cost'] = c1[start, end]\n",
        "        b2=b.copy()\n",
        "        array_for_s = [i for i in range (len(u)) if b2[i]>0]\n",
        "        array_for_t = [i for i in range (len(u)) if b2[i]<0]\n",
        "        for s1 in array_for_s:\n",
        "          for t1 in array_for_t:\n",
        "            if shortest_way_fan(gf,s1,t1) != False:\n",
        "              s,t = s1,t1\n",
        "              break\n",
        "        shortest_way = shortest_way_fan(gf,s,t)\n",
        "        while shortest_way != False:\n",
        "            if len([x for x in b2 if (x > 0 or x < 0)]) == 0:\n",
        "              break\n",
        "            else:\n",
        "              min_bw = min(uf[i][j] for i,j in shortest_way)\n",
        "              gamma = min(min_bw, b2[s], -b2[t])\n",
        "\n",
        "              for i,j in shortest_way:\n",
        "                delta = min(u[i][j]-f[i][j],gamma)\n",
        "                f[i][j] += delta\n",
        "                f[j][i] -= gamma - delta\n",
        "\n",
        "\n",
        "              b2[s]-=gamma\n",
        "              b2[t]+=gamma\n",
        "\n",
        "\n",
        "              if b2[s] <= 0:\n",
        "                  array_for_s.remove(s)\n",
        "              if b2[t] >= 0:\n",
        "                  array_for_t.remove(t)\n",
        "\n",
        "              uf = residual(u, f)\n",
        "              gf = nx.from_numpy_array(uf, create_using = nx.DiGraph)\n",
        "              c1 = residual_cost_2(uf, c1)\n",
        "              for (start, end) in c1.keys():\n",
        "                if (start, end) in gf.edges:\n",
        "                  gf.edges[start, end]['cost'] = c1[start, end]\n",
        "              for s1 in array_for_s:\n",
        "                for t1 in array_for_t:\n",
        "                  if (shortest_way_fan(gf,s1,t1)!= False):\n",
        "                    s,t = s1,t1\n",
        "                    break\n",
        "              shortest_way = shortest_way_fan(gf,s,t)\n",
        "              print(s,t,shortest_way_fan(gf,s,t))\n",
        "        return f"
      ],
      "metadata": {
        "id": "FVAvAddRab4T"
      },
      "execution_count": 122,
      "outputs": []
    },
    {
      "cell_type": "code",
      "source": [
        "f=min_cost(u,b,c1)\n",
        "f"
      ],
      "metadata": {
        "colab": {
          "base_uri": "https://localhost:8080/"
        },
        "id": "jO1zwes3f_iA",
        "outputId": "281485d0-8b93-4d75-cc5f-56f0f3b58448"
      },
      "execution_count": 123,
      "outputs": [
        {
          "output_type": "stream",
          "name": "stdout",
          "text": [
            "3 5 [[3, 4], [4, 5]]\n",
            "3 5 [[3, 5]]\n",
            "0 2 [[0, 1], [1, 2]]\n",
            "0 5 [[0, 4], [4, 5]]\n",
            "0 5 [[0, 4], [4, 3], [3, 5]]\n",
            "0 5 [[0, 1], [1, 2], [2, 4], [4, 3], [3, 5]]\n",
            "0 5 [[0, 1], [1, 2], [2, 5]]\n"
          ]
        },
        {
          "output_type": "execute_result",
          "data": {
            "text/plain": [
              "array([[ 0, 10,  0,  0,  5,  0],\n",
              "       [ 0,  0, 10,  0,  0,  0],\n",
              "       [ 0,  0,  0,  0,  0,  0],\n",
              "       [ 0,  0,  0,  0,  3,  7],\n",
              "       [ 0,  0,  0,  0,  0,  8],\n",
              "       [ 0,  0,  0,  0,  0,  0]])"
            ]
          },
          "metadata": {},
          "execution_count": 123
        }
      ]
    },
    {
      "cell_type": "code",
      "source": [
        "cost=0\n",
        "k=len(u)\n",
        "for i in range(k):\n",
        "  for j in range(k):\n",
        "    cost+=f[i,j] * c[i,j]\n",
        "cost"
      ],
      "metadata": {
        "colab": {
          "base_uri": "https://localhost:8080/"
        },
        "id": "NygTNTcYgHlS",
        "outputId": "8b83e9fc-4400-4fac-d690-f49762fddbce"
      },
      "execution_count": 124,
      "outputs": [
        {
          "output_type": "execute_result",
          "data": {
            "text/plain": [
              "107"
            ]
          },
          "metadata": {},
          "execution_count": 124
        }
      ]
    }
  ]
}